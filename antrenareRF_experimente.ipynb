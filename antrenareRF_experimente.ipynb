{
  "nbformat": 4,
  "nbformat_minor": 0,
  "metadata": {
    "colab": {
      "name": "exemplu_random_forest_youtube_V2 (2).ipynb",
      "provenance": [],
      "collapsed_sections": []
    },
    "kernelspec": {
      "name": "python3",
      "display_name": "Python 3"
    },
    "language_info": {
      "name": "python"
    }
  },
  "cells": [
    {
      "cell_type": "code",
      "metadata": {
        "id": "aYijz17AaYLQ"
      },
      "source": [
        "#LET S PREDICT WHAT SPECIES DO THIS IRISES BELONG TO!"
      ],
      "execution_count": null,
      "outputs": []
    },
    {
      "cell_type": "code",
      "metadata": {
        "colab": {
          "base_uri": "https://localhost:8080/"
        },
        "id": "HNk2we3yMnz3",
        "outputId": "2c0f2eed-2d3d-4543-f69e-4624be9e3a12"
      },
      "source": [
        "from google.colab import drive\n",
        "\n",
        "drive.mount('/content/gdrive')"
      ],
      "execution_count": null,
      "outputs": [
        {
          "output_type": "stream",
          "text": [
            "Drive already mounted at /content/gdrive; to attempt to forcibly remount, call drive.mount(\"/content/gdrive\", force_remount=True).\n"
          ],
          "name": "stdout"
        }
      ]
    },
    {
      "cell_type": "markdown",
      "metadata": {
        "id": "xO5twfTNTEoj"
      },
      "source": [
        "1.PREPARING THE DATA"
      ]
    },
    {
      "cell_type": "code",
      "metadata": {
        "id": "RoVL1JQlaip-"
      },
      "source": [
        "#LOADING THE LIBRARY WITH THE IRIS DATASET\n",
        "#from sklearn.datasets import load_iris\n",
        "#a module that lets us load the data it is NOT the actual data"
      ],
      "execution_count": null,
      "outputs": []
    },
    {
      "cell_type": "code",
      "metadata": {
        "id": "PXQt5TzPatl7"
      },
      "source": [
        "#LOADING SCIKIT'S RANDOM FOREST CLASSIFIER LIBRARY\n",
        "\n",
        "from sklearn.ensemble import RandomForestClassifier"
      ],
      "execution_count": null,
      "outputs": []
    },
    {
      "cell_type": "code",
      "metadata": {
        "id": "wKW_rNIya5q8"
      },
      "source": [
        "#LOADING PANDAS\n",
        "\n",
        "import pandas as pd"
      ],
      "execution_count": null,
      "outputs": []
    },
    {
      "cell_type": "code",
      "metadata": {
        "id": "-2JaZKjVd1lC"
      },
      "source": [
        "#LOADING NUMPY\n",
        "\n",
        "import numpy as np\n",
        "from io import StringIO"
      ],
      "execution_count": null,
      "outputs": []
    },
    {
      "cell_type": "code",
      "metadata": {
        "id": "uIZ8C8D1d8Qh"
      },
      "source": [
        "#SETTING RANDOM SEED\n",
        "\n",
        "np.random.seed(0)\n"
      ],
      "execution_count": null,
      "outputs": []
    },
    {
      "cell_type": "code",
      "metadata": {
        "id": "p3MTDFyyNMD2"
      },
      "source": [
        "#incarcare date imagine cu urban si masca corespunzatoare \n",
        "date_urban=np.load('/content/gdrive/MyDrive/REZULTATE/NPY/S_CLUJ_29_08_2020/b41112_cropped_S_CJ_2020.npy')\n"
      ],
      "execution_count": null,
      "outputs": []
    },
    {
      "cell_type": "code",
      "metadata": {
        "id": "OBAXKt2pSBvI"
      },
      "source": [
        "date=np.load('/content/gdrive/MyDrive/REZULTATE/NPY/S_CLUJ_29_08_2020/NDBI_cropped_S_CJ_2020.npy')"
      ],
      "execution_count": null,
      "outputs": []
    },
    {
      "cell_type": "code",
      "metadata": {
        "colab": {
          "base_uri": "https://localhost:8080/"
        },
        "id": "JMWnWKgFcFj4",
        "outputId": "5ffeae03-8e14-4801-e897-e208ec219c84"
      },
      "source": [
        "print(date_urban.shape)\n",
        "print(date.shape)"
      ],
      "execution_count": null,
      "outputs": [
        {
          "output_type": "stream",
          "text": [
            "(256768, 3)\n",
            "(256768,)\n"
          ],
          "name": "stdout"
        }
      ]
    },
    {
      "cell_type": "code",
      "metadata": {
        "id": "Y-ZAwQleUdR7",
        "colab": {
          "base_uri": "https://localhost:8080/"
        },
        "outputId": "6c5091cc-fa5f-4b62-9f93-d68c4b43c4b7"
      },
      "source": [
        "masca = np.load('/content/gdrive/MyDrive/REZULTATE/NPY/S_CLUJ_29_08_2020/masca_S_CJ_2020.npy')\n",
        "print(masca.shape)"
      ],
      "execution_count": null,
      "outputs": [
        {
          "output_type": "stream",
          "text": [
            "(256768,)\n"
          ],
          "name": "stdout"
        }
      ]
    },
    {
      "cell_type": "code",
      "metadata": {
        "colab": {
          "base_uri": "https://localhost:8080/",
          "height": 204
        },
        "id": "1uqikMM6MAuI",
        "outputId": "227627e6-2186-474c-ddde-f94d4a347d2c"
      },
      "source": [
        "#CREATING AN OBJECT CALLED IRIS WITH THE IRIS DATA\n",
        "#loading the actual data \n",
        "\n",
        "\n",
        "for key in date_urban:\n",
        "    if isinstance(date_urban[key], np.ndarray):\n",
        "        date_urban[key] = date_urban[key].tolist()\n",
        "\n",
        "df = pd.DataFrame(date_urban,columns=['R','G','B'])\n",
        "#df = pd.DataFrame(date_urban,columns=['Values'])\n",
        "#CREATING A DATAFRAME WITH THE FOUR FEATURE VARIABLES\n",
        "#defining dataframe\n",
        "\n",
        "#VIEWING THE TOP 5 ROWS\n",
        "df.head(5)\n",
        "\n",
        "#along with the headers\n",
        "\n",
        "#https://stackoverflow.com/questions/40201026/making-a-pandas-dataframe-from-a-npy-file"
      ],
      "execution_count": null,
      "outputs": [
        {
          "output_type": "execute_result",
          "data": {
            "text/html": [
              "<div>\n",
              "<style scoped>\n",
              "    .dataframe tbody tr th:only-of-type {\n",
              "        vertical-align: middle;\n",
              "    }\n",
              "\n",
              "    .dataframe tbody tr th {\n",
              "        vertical-align: top;\n",
              "    }\n",
              "\n",
              "    .dataframe thead th {\n",
              "        text-align: right;\n",
              "    }\n",
              "</style>\n",
              "<table border=\"1\" class=\"dataframe\">\n",
              "  <thead>\n",
              "    <tr style=\"text-align: right;\">\n",
              "      <th></th>\n",
              "      <th>R</th>\n",
              "      <th>G</th>\n",
              "      <th>B</th>\n",
              "    </tr>\n",
              "  </thead>\n",
              "  <tbody>\n",
              "    <tr>\n",
              "      <th>0</th>\n",
              "      <td>241</td>\n",
              "      <td>220</td>\n",
              "      <td>246</td>\n",
              "    </tr>\n",
              "    <tr>\n",
              "      <th>1</th>\n",
              "      <td>226</td>\n",
              "      <td>191</td>\n",
              "      <td>229</td>\n",
              "    </tr>\n",
              "    <tr>\n",
              "      <th>2</th>\n",
              "      <td>171</td>\n",
              "      <td>105</td>\n",
              "      <td>171</td>\n",
              "    </tr>\n",
              "    <tr>\n",
              "      <th>3</th>\n",
              "      <td>141</td>\n",
              "      <td>50</td>\n",
              "      <td>196</td>\n",
              "    </tr>\n",
              "    <tr>\n",
              "      <th>4</th>\n",
              "      <td>137</td>\n",
              "      <td>87</td>\n",
              "      <td>130</td>\n",
              "    </tr>\n",
              "  </tbody>\n",
              "</table>\n",
              "</div>"
            ],
            "text/plain": [
              "     R    G    B\n",
              "0  241  220  246\n",
              "1  226  191  229\n",
              "2  171  105  171\n",
              "3  141   50  196\n",
              "4  137   87  130"
            ]
          },
          "metadata": {
            "tags": []
          },
          "execution_count": 145
        }
      ]
    },
    {
      "cell_type": "code",
      "metadata": {
        "colab": {
          "base_uri": "https://localhost:8080/"
        },
        "id": "lGgtOzwFNfS7",
        "outputId": "d1c53d67-f5b3-48b5-fc11-d21793e0561e"
      },
      "source": [
        "print(date_urban)\n",
        "\n",
        "#se afiseaza toate datele si se observa ca se afla in dictionar"
      ],
      "execution_count": null,
      "outputs": [
        {
          "output_type": "stream",
          "text": [
            "[[241 220 246]\n",
            " [226 191 229]\n",
            " [171 105 171]\n",
            " ...\n",
            " [209 222 212]\n",
            " [215 220 222]\n",
            " [211 210 213]]\n"
          ],
          "name": "stdout"
        }
      ]
    },
    {
      "cell_type": "code",
      "metadata": {
        "colab": {
          "base_uri": "https://localhost:8080/",
          "height": 204
        },
        "id": "IRRneftzTC1c",
        "outputId": "b6cef456-3d42-4990-c089-8a919b9a2629"
      },
      "source": [
        "for key in date:\n",
        "    if isinstance(date[key], np.ndarray):\n",
        "        date[key] = date[key].tolist()\n",
        "\n",
        "#df = pd.DataFrame(date_urban,columns=['R','G','B'])\n",
        "d = pd.DataFrame(date,columns=['values'])\n",
        "#CREATING A DATAFRAME WITH THE FOUR FEATURE VARIABLES\n",
        "#defining dataframe\n",
        "\n",
        "#VIEWING THE TOP 5 ROWS\n",
        "d.head(5)\n",
        "\n",
        "#along with the headers\n",
        "\n",
        "#https://stackoverflow.com/questions/40201026/making-a-pandas-dataframe-from-a-npy-file"
      ],
      "execution_count": null,
      "outputs": [
        {
          "output_type": "execute_result",
          "data": {
            "text/html": [
              "<div>\n",
              "<style scoped>\n",
              "    .dataframe tbody tr th:only-of-type {\n",
              "        vertical-align: middle;\n",
              "    }\n",
              "\n",
              "    .dataframe tbody tr th {\n",
              "        vertical-align: top;\n",
              "    }\n",
              "\n",
              "    .dataframe thead th {\n",
              "        text-align: right;\n",
              "    }\n",
              "</style>\n",
              "<table border=\"1\" class=\"dataframe\">\n",
              "  <thead>\n",
              "    <tr style=\"text-align: right;\">\n",
              "      <th></th>\n",
              "      <th>values</th>\n",
              "    </tr>\n",
              "  </thead>\n",
              "  <tbody>\n",
              "    <tr>\n",
              "      <th>0</th>\n",
              "      <td>255</td>\n",
              "    </tr>\n",
              "    <tr>\n",
              "      <th>1</th>\n",
              "      <td>249</td>\n",
              "    </tr>\n",
              "    <tr>\n",
              "      <th>2</th>\n",
              "      <td>236</td>\n",
              "    </tr>\n",
              "    <tr>\n",
              "      <th>3</th>\n",
              "      <td>255</td>\n",
              "    </tr>\n",
              "    <tr>\n",
              "      <th>4</th>\n",
              "      <td>245</td>\n",
              "    </tr>\n",
              "  </tbody>\n",
              "</table>\n",
              "</div>"
            ],
            "text/plain": [
              "   values\n",
              "0     255\n",
              "1     249\n",
              "2     236\n",
              "3     255\n",
              "4     245"
            ]
          },
          "metadata": {
            "tags": []
          },
          "execution_count": 147
        }
      ]
    },
    {
      "cell_type": "code",
      "metadata": {
        "id": "3Bymg4vUTXAB"
      },
      "source": [
        "#unesc valorile NDBI peste dataframe-ul initial \n",
        "values = d[\"values\"] #extrag valorile NDBI\n",
        "df = df.join(values)\n",
        "#https://www.kite.com/python/answers/how-to-append-a-column-from-a-pandas-dataframe-to-another-dataframe-in-python"
      ],
      "execution_count": null,
      "outputs": []
    },
    {
      "cell_type": "code",
      "metadata": {
        "colab": {
          "base_uri": "https://localhost:8080/",
          "height": 204
        },
        "id": "Y82kPRr0TqC_",
        "outputId": "f7af8563-8040-4a25-9430-7c24a2690654"
      },
      "source": [
        "df.head(5)"
      ],
      "execution_count": null,
      "outputs": [
        {
          "output_type": "execute_result",
          "data": {
            "text/html": [
              "<div>\n",
              "<style scoped>\n",
              "    .dataframe tbody tr th:only-of-type {\n",
              "        vertical-align: middle;\n",
              "    }\n",
              "\n",
              "    .dataframe tbody tr th {\n",
              "        vertical-align: top;\n",
              "    }\n",
              "\n",
              "    .dataframe thead th {\n",
              "        text-align: right;\n",
              "    }\n",
              "</style>\n",
              "<table border=\"1\" class=\"dataframe\">\n",
              "  <thead>\n",
              "    <tr style=\"text-align: right;\">\n",
              "      <th></th>\n",
              "      <th>R</th>\n",
              "      <th>G</th>\n",
              "      <th>B</th>\n",
              "      <th>values</th>\n",
              "    </tr>\n",
              "  </thead>\n",
              "  <tbody>\n",
              "    <tr>\n",
              "      <th>0</th>\n",
              "      <td>241</td>\n",
              "      <td>220</td>\n",
              "      <td>246</td>\n",
              "      <td>255</td>\n",
              "    </tr>\n",
              "    <tr>\n",
              "      <th>1</th>\n",
              "      <td>226</td>\n",
              "      <td>191</td>\n",
              "      <td>229</td>\n",
              "      <td>249</td>\n",
              "    </tr>\n",
              "    <tr>\n",
              "      <th>2</th>\n",
              "      <td>171</td>\n",
              "      <td>105</td>\n",
              "      <td>171</td>\n",
              "      <td>236</td>\n",
              "    </tr>\n",
              "    <tr>\n",
              "      <th>3</th>\n",
              "      <td>141</td>\n",
              "      <td>50</td>\n",
              "      <td>196</td>\n",
              "      <td>255</td>\n",
              "    </tr>\n",
              "    <tr>\n",
              "      <th>4</th>\n",
              "      <td>137</td>\n",
              "      <td>87</td>\n",
              "      <td>130</td>\n",
              "      <td>245</td>\n",
              "    </tr>\n",
              "  </tbody>\n",
              "</table>\n",
              "</div>"
            ],
            "text/plain": [
              "     R    G    B  values\n",
              "0  241  220  246     255\n",
              "1  226  191  229     249\n",
              "2  171  105  171     236\n",
              "3  141   50  196     255\n",
              "4  137   87  130     245"
            ]
          },
          "metadata": {
            "tags": []
          },
          "execution_count": 149
        }
      ]
    },
    {
      "cell_type": "code",
      "metadata": {
        "colab": {
          "base_uri": "https://localhost:8080/",
          "height": 204
        },
        "id": "55tCZ5WqPkkN",
        "outputId": "8a4c2063-8a16-4416-9589-d66fa1a745b6"
      },
      "source": [
        " #CREATING TEST AND TRAIN DATA\n",
        " #df['is_train'] = np.random.uniform(0,1,len(df)) >0\n",
        " df['is_train'] = True\n",
        "\n",
        "#we are generating a random number 0 to 1 if it's less than 0.75 it is true , else it is false\n",
        "#we are gonna use 75% for trainning and 25% for testing\n",
        "\n",
        " #VIEW THE TOP 5 ROWS\n",
        " df.head(5)"
      ],
      "execution_count": null,
      "outputs": [
        {
          "output_type": "execute_result",
          "data": {
            "text/html": [
              "<div>\n",
              "<style scoped>\n",
              "    .dataframe tbody tr th:only-of-type {\n",
              "        vertical-align: middle;\n",
              "    }\n",
              "\n",
              "    .dataframe tbody tr th {\n",
              "        vertical-align: top;\n",
              "    }\n",
              "\n",
              "    .dataframe thead th {\n",
              "        text-align: right;\n",
              "    }\n",
              "</style>\n",
              "<table border=\"1\" class=\"dataframe\">\n",
              "  <thead>\n",
              "    <tr style=\"text-align: right;\">\n",
              "      <th></th>\n",
              "      <th>R</th>\n",
              "      <th>G</th>\n",
              "      <th>B</th>\n",
              "      <th>values</th>\n",
              "      <th>is_train</th>\n",
              "    </tr>\n",
              "  </thead>\n",
              "  <tbody>\n",
              "    <tr>\n",
              "      <th>0</th>\n",
              "      <td>241</td>\n",
              "      <td>220</td>\n",
              "      <td>246</td>\n",
              "      <td>255</td>\n",
              "      <td>True</td>\n",
              "    </tr>\n",
              "    <tr>\n",
              "      <th>1</th>\n",
              "      <td>226</td>\n",
              "      <td>191</td>\n",
              "      <td>229</td>\n",
              "      <td>249</td>\n",
              "      <td>True</td>\n",
              "    </tr>\n",
              "    <tr>\n",
              "      <th>2</th>\n",
              "      <td>171</td>\n",
              "      <td>105</td>\n",
              "      <td>171</td>\n",
              "      <td>236</td>\n",
              "      <td>True</td>\n",
              "    </tr>\n",
              "    <tr>\n",
              "      <th>3</th>\n",
              "      <td>141</td>\n",
              "      <td>50</td>\n",
              "      <td>196</td>\n",
              "      <td>255</td>\n",
              "      <td>True</td>\n",
              "    </tr>\n",
              "    <tr>\n",
              "      <th>4</th>\n",
              "      <td>137</td>\n",
              "      <td>87</td>\n",
              "      <td>130</td>\n",
              "      <td>245</td>\n",
              "      <td>True</td>\n",
              "    </tr>\n",
              "  </tbody>\n",
              "</table>\n",
              "</div>"
            ],
            "text/plain": [
              "     R    G    B  values  is_train\n",
              "0  241  220  246     255      True\n",
              "1  226  191  229     249      True\n",
              "2  171  105  171     236      True\n",
              "3  141   50  196     255      True\n",
              "4  137   87  130     245      True"
            ]
          },
          "metadata": {
            "tags": []
          },
          "execution_count": 150
        }
      ]
    },
    {
      "cell_type": "code",
      "metadata": {
        "colab": {
          "base_uri": "https://localhost:8080/"
        },
        "id": "-49ZodbQSUAl",
        "outputId": "11934074-60ac-4276-e1cf-026d4674ec92"
      },
      "source": [
        "#CREATING DATAFRAME WITH TEST ROWS AND TRAINING ROWS\n",
        "train = df[df['is_train']==True]\n",
        "\n",
        "#SHOW THE NUMBER OF OBSERVATION FOR THE TEST AND TRAINING DATAFRAMES\n",
        "print(\"Number of observations in the training data\",len(train))\n",
        "#print(\"Number of observations in the test data\",len(test))"
      ],
      "execution_count": null,
      "outputs": [
        {
          "output_type": "stream",
          "text": [
            "Number of observations in the training data 256768\n"
          ],
          "name": "stdout"
        }
      ]
    },
    {
      "cell_type": "code",
      "metadata": {
        "colab": {
          "base_uri": "https://localhost:8080/"
        },
        "id": "HOwEXvsXVA4Y",
        "outputId": "cdea282c-2014-43a2-b952-5ed2ee35dbd2"
      },
      "source": [
        "#CREATE A LIST OF THE FEATURE COLUMN'S NAMES\n",
        "features = df.columns[:4]\n",
        "#primele 4 coloane sunt cele care au numele caracteristicilor\n",
        "\n",
        "#VIEW FEATURES\n",
        "print(features)"
      ],
      "execution_count": null,
      "outputs": [
        {
          "output_type": "stream",
          "text": [
            "Index(['R', 'G', 'B', 'values'], dtype='object')\n"
          ],
          "name": "stdout"
        }
      ]
    },
    {
      "cell_type": "code",
      "metadata": {
        "colab": {
          "base_uri": "https://localhost:8080/",
          "height": 235
        },
        "id": "p3qcsFOCflN1",
        "outputId": "0152d01a-6637-4817-c260-65b136021a09"
      },
      "source": [
        "for key in masca:\n",
        "    if isinstance(masca[key], np.ndarray):\n",
        "        masca[key] = masca[key].tolist()\n",
        "\n",
        "dm = pd.DataFrame(masca,columns=['value'])\n",
        "#ADDING A NEW COLUMN FOR town values\n",
        "\n",
        "#VIWEING THE TOP 5 ROWS\n",
        "\n",
        "dm.head(6)"
      ],
      "execution_count": null,
      "outputs": [
        {
          "output_type": "execute_result",
          "data": {
            "text/html": [
              "<div>\n",
              "<style scoped>\n",
              "    .dataframe tbody tr th:only-of-type {\n",
              "        vertical-align: middle;\n",
              "    }\n",
              "\n",
              "    .dataframe tbody tr th {\n",
              "        vertical-align: top;\n",
              "    }\n",
              "\n",
              "    .dataframe thead th {\n",
              "        text-align: right;\n",
              "    }\n",
              "</style>\n",
              "<table border=\"1\" class=\"dataframe\">\n",
              "  <thead>\n",
              "    <tr style=\"text-align: right;\">\n",
              "      <th></th>\n",
              "      <th>value</th>\n",
              "    </tr>\n",
              "  </thead>\n",
              "  <tbody>\n",
              "    <tr>\n",
              "      <th>0</th>\n",
              "      <td>0</td>\n",
              "    </tr>\n",
              "    <tr>\n",
              "      <th>1</th>\n",
              "      <td>0</td>\n",
              "    </tr>\n",
              "    <tr>\n",
              "      <th>2</th>\n",
              "      <td>0</td>\n",
              "    </tr>\n",
              "    <tr>\n",
              "      <th>3</th>\n",
              "      <td>0</td>\n",
              "    </tr>\n",
              "    <tr>\n",
              "      <th>4</th>\n",
              "      <td>0</td>\n",
              "    </tr>\n",
              "    <tr>\n",
              "      <th>5</th>\n",
              "      <td>255</td>\n",
              "    </tr>\n",
              "  </tbody>\n",
              "</table>\n",
              "</div>"
            ],
            "text/plain": [
              "   value\n",
              "0      0\n",
              "1      0\n",
              "2      0\n",
              "3      0\n",
              "4      0\n",
              "5    255"
            ]
          },
          "metadata": {
            "tags": []
          },
          "execution_count": 153
        }
      ]
    },
    {
      "cell_type": "markdown",
      "metadata": {
        "id": "_T1OYsLxVMS0"
      },
      "source": [
        "2.CREAREA CLASIFICATORULUI"
      ]
    },
    {
      "cell_type": "code",
      "metadata": {
        "colab": {
          "base_uri": "https://localhost:8080/"
        },
        "id": "RzqsYBamS_3P",
        "outputId": "c11b4416-80e2-4804-802a-0613a02662e0"
      },
      "source": [
        "#CREATING A RANDOM FOREST CLASSIFIER\n",
        "clf = RandomForestClassifier(n_jobs=2, random_state=0)\n",
        "\n",
        "#n_jobs prioritizeaza (2 e default pt acasa)\n",
        "#random_state\n",
        "#n_estimators=100\n",
        "\n",
        "#TRAINING THE CLASSIFIER\n",
        "print(clf.fit(train[features],masca))\n",
        "\n",
        "#.fit(antrenam , creeam clasificatorul nostru )\n",
        "#train[features] sunt datele noastre propriu-zise\n",
        "#si targetul nostru este y(unde se afla 0 1 2 corespunzator tipurilor de flori)\n",
        "\n",
        "#printeaza toti parametrii clasificatorului"
      ],
      "execution_count": null,
      "outputs": [
        {
          "output_type": "stream",
          "text": [
            "RandomForestClassifier(bootstrap=True, ccp_alpha=0.0, class_weight=None,\n",
            "                       criterion='gini', max_depth=None, max_features='auto',\n",
            "                       max_leaf_nodes=None, max_samples=None,\n",
            "                       min_impurity_decrease=0.0, min_impurity_split=None,\n",
            "                       min_samples_leaf=1, min_samples_split=2,\n",
            "                       min_weight_fraction_leaf=0.0, n_estimators=100, n_jobs=2,\n",
            "                       oob_score=False, random_state=0, verbose=0,\n",
            "                       warm_start=False)\n"
          ],
          "name": "stdout"
        }
      ]
    },
    {
      "cell_type": "markdown",
      "metadata": {
        "id": "G9S7ulSaVUtp"
      },
      "source": [
        "3.TESTAREA CLASIFICATORULUI"
      ]
    },
    {
      "cell_type": "code",
      "metadata": {
        "id": "16fwlo7AbkTr"
      },
      "source": [
        "date_test=np.load('/content/gdrive/MyDrive/REZULTATE/NPY/S_CLUJ_30_08_2018/b41112_cropped_S_CJ_2018.npy')"
      ],
      "execution_count": null,
      "outputs": []
    },
    {
      "cell_type": "code",
      "metadata": {
        "colab": {
          "base_uri": "https://localhost:8080/"
        },
        "id": "zF3mMizgUpdn",
        "outputId": "2d5a3068-99da-454e-8ac4-15854aba1753"
      },
      "source": [
        "date_t=np.load('/content/gdrive/MyDrive/REZULTATE/NPY/S_CLUJ_30_08_2018/NDBI_cropped_S_CJ_2018.npy')\n",
        "print(date_t.shape)"
      ],
      "execution_count": null,
      "outputs": [
        {
          "output_type": "stream",
          "text": [
            "(256768,)\n"
          ],
          "name": "stdout"
        }
      ]
    },
    {
      "cell_type": "code",
      "metadata": {
        "id": "WhQfkOahYfHt",
        "colab": {
          "base_uri": "https://localhost:8080/"
        },
        "outputId": "66c8ea97-2e99-4937-e7c9-8e29ae4d7593"
      },
      "source": [
        "masca_test=np.load('/content/gdrive/MyDrive/REZULTATE/NPY/S_CLUJ_30_08_2018/masca_S_CJ_2018.npy')\n",
        "print(masca.shape)"
      ],
      "execution_count": null,
      "outputs": [
        {
          "output_type": "stream",
          "text": [
            "(256768,)\n"
          ],
          "name": "stdout"
        }
      ]
    },
    {
      "cell_type": "code",
      "metadata": {
        "colab": {
          "base_uri": "https://localhost:8080/",
          "height": 204
        },
        "id": "23JgcBytMcqX",
        "outputId": "0158ffba-f401-4f14-d973-b59969986988"
      },
      "source": [
        "for key in date_test:\n",
        "    if isinstance(date_test[key], np.ndarray):\n",
        "        date_test[key] = date_test[key].tolist()\n",
        "\n",
        "ds = pd.DataFrame(date_test,columns=['R','G','B'])\n",
        "#ds = pd.DataFrame(date_test,columns=['values'])\n",
        "ds.head(5)"
      ],
      "execution_count": null,
      "outputs": [
        {
          "output_type": "execute_result",
          "data": {
            "text/html": [
              "<div>\n",
              "<style scoped>\n",
              "    .dataframe tbody tr th:only-of-type {\n",
              "        vertical-align: middle;\n",
              "    }\n",
              "\n",
              "    .dataframe tbody tr th {\n",
              "        vertical-align: top;\n",
              "    }\n",
              "\n",
              "    .dataframe thead th {\n",
              "        text-align: right;\n",
              "    }\n",
              "</style>\n",
              "<table border=\"1\" class=\"dataframe\">\n",
              "  <thead>\n",
              "    <tr style=\"text-align: right;\">\n",
              "      <th></th>\n",
              "      <th>R</th>\n",
              "      <th>G</th>\n",
              "      <th>B</th>\n",
              "    </tr>\n",
              "  </thead>\n",
              "  <tbody>\n",
              "    <tr>\n",
              "      <th>0</th>\n",
              "      <td>240</td>\n",
              "      <td>220</td>\n",
              "      <td>241</td>\n",
              "    </tr>\n",
              "    <tr>\n",
              "      <th>1</th>\n",
              "      <td>217</td>\n",
              "      <td>174</td>\n",
              "      <td>219</td>\n",
              "    </tr>\n",
              "    <tr>\n",
              "      <th>2</th>\n",
              "      <td>178</td>\n",
              "      <td>122</td>\n",
              "      <td>189</td>\n",
              "    </tr>\n",
              "    <tr>\n",
              "      <th>3</th>\n",
              "      <td>158</td>\n",
              "      <td>57</td>\n",
              "      <td>197</td>\n",
              "    </tr>\n",
              "    <tr>\n",
              "      <th>4</th>\n",
              "      <td>143</td>\n",
              "      <td>81</td>\n",
              "      <td>144</td>\n",
              "    </tr>\n",
              "  </tbody>\n",
              "</table>\n",
              "</div>"
            ],
            "text/plain": [
              "     R    G    B\n",
              "0  240  220  241\n",
              "1  217  174  219\n",
              "2  178  122  189\n",
              "3  158   57  197\n",
              "4  143   81  144"
            ]
          },
          "metadata": {
            "tags": []
          },
          "execution_count": 158
        }
      ]
    },
    {
      "cell_type": "code",
      "metadata": {
        "colab": {
          "base_uri": "https://localhost:8080/",
          "height": 204
        },
        "id": "zWp88HQaVwDI",
        "outputId": "e7d8707d-0044-469c-80b7-55a9b5b60d7c"
      },
      "source": [
        "for key in date_t:\n",
        "    if isinstance(date_t[key], np.ndarray):\n",
        "        date_t[key] = date_t[key].tolist()\n",
        "\n",
        "d = pd.DataFrame(date_t,columns=['values'])\n",
        "#VIEWING THE TOP 5 ROWS\n",
        "d.head(3)\n",
        "\n",
        "values = d[\"values\"] #extrag valorile NDBI\n",
        "ds = ds.join(values)\n",
        "\n",
        "ds.head(5)"
      ],
      "execution_count": null,
      "outputs": [
        {
          "output_type": "execute_result",
          "data": {
            "text/html": [
              "<div>\n",
              "<style scoped>\n",
              "    .dataframe tbody tr th:only-of-type {\n",
              "        vertical-align: middle;\n",
              "    }\n",
              "\n",
              "    .dataframe tbody tr th {\n",
              "        vertical-align: top;\n",
              "    }\n",
              "\n",
              "    .dataframe thead th {\n",
              "        text-align: right;\n",
              "    }\n",
              "</style>\n",
              "<table border=\"1\" class=\"dataframe\">\n",
              "  <thead>\n",
              "    <tr style=\"text-align: right;\">\n",
              "      <th></th>\n",
              "      <th>R</th>\n",
              "      <th>G</th>\n",
              "      <th>B</th>\n",
              "      <th>values</th>\n",
              "    </tr>\n",
              "  </thead>\n",
              "  <tbody>\n",
              "    <tr>\n",
              "      <th>0</th>\n",
              "      <td>240</td>\n",
              "      <td>220</td>\n",
              "      <td>241</td>\n",
              "      <td>255</td>\n",
              "    </tr>\n",
              "    <tr>\n",
              "      <th>1</th>\n",
              "      <td>217</td>\n",
              "      <td>174</td>\n",
              "      <td>219</td>\n",
              "      <td>255</td>\n",
              "    </tr>\n",
              "    <tr>\n",
              "      <th>2</th>\n",
              "      <td>178</td>\n",
              "      <td>122</td>\n",
              "      <td>189</td>\n",
              "      <td>255</td>\n",
              "    </tr>\n",
              "    <tr>\n",
              "      <th>3</th>\n",
              "      <td>158</td>\n",
              "      <td>57</td>\n",
              "      <td>197</td>\n",
              "      <td>255</td>\n",
              "    </tr>\n",
              "    <tr>\n",
              "      <th>4</th>\n",
              "      <td>143</td>\n",
              "      <td>81</td>\n",
              "      <td>144</td>\n",
              "      <td>238</td>\n",
              "    </tr>\n",
              "  </tbody>\n",
              "</table>\n",
              "</div>"
            ],
            "text/plain": [
              "     R    G    B  values\n",
              "0  240  220  241     255\n",
              "1  217  174  219     255\n",
              "2  178  122  189     255\n",
              "3  158   57  197     255\n",
              "4  143   81  144     238"
            ]
          },
          "metadata": {
            "tags": []
          },
          "execution_count": 159
        }
      ]
    },
    {
      "cell_type": "code",
      "metadata": {
        "colab": {
          "base_uri": "https://localhost:8080/",
          "height": 204
        },
        "id": "ol9A6LCeMzyv",
        "outputId": "383018d3-a1b3-4d59-ad1a-39b189e70dc0"
      },
      "source": [
        "ds['is_testable'] = True\n",
        "ds.head(5)"
      ],
      "execution_count": null,
      "outputs": [
        {
          "output_type": "execute_result",
          "data": {
            "text/html": [
              "<div>\n",
              "<style scoped>\n",
              "    .dataframe tbody tr th:only-of-type {\n",
              "        vertical-align: middle;\n",
              "    }\n",
              "\n",
              "    .dataframe tbody tr th {\n",
              "        vertical-align: top;\n",
              "    }\n",
              "\n",
              "    .dataframe thead th {\n",
              "        text-align: right;\n",
              "    }\n",
              "</style>\n",
              "<table border=\"1\" class=\"dataframe\">\n",
              "  <thead>\n",
              "    <tr style=\"text-align: right;\">\n",
              "      <th></th>\n",
              "      <th>R</th>\n",
              "      <th>G</th>\n",
              "      <th>B</th>\n",
              "      <th>values</th>\n",
              "      <th>is_testable</th>\n",
              "    </tr>\n",
              "  </thead>\n",
              "  <tbody>\n",
              "    <tr>\n",
              "      <th>0</th>\n",
              "      <td>240</td>\n",
              "      <td>220</td>\n",
              "      <td>241</td>\n",
              "      <td>255</td>\n",
              "      <td>True</td>\n",
              "    </tr>\n",
              "    <tr>\n",
              "      <th>1</th>\n",
              "      <td>217</td>\n",
              "      <td>174</td>\n",
              "      <td>219</td>\n",
              "      <td>255</td>\n",
              "      <td>True</td>\n",
              "    </tr>\n",
              "    <tr>\n",
              "      <th>2</th>\n",
              "      <td>178</td>\n",
              "      <td>122</td>\n",
              "      <td>189</td>\n",
              "      <td>255</td>\n",
              "      <td>True</td>\n",
              "    </tr>\n",
              "    <tr>\n",
              "      <th>3</th>\n",
              "      <td>158</td>\n",
              "      <td>57</td>\n",
              "      <td>197</td>\n",
              "      <td>255</td>\n",
              "      <td>True</td>\n",
              "    </tr>\n",
              "    <tr>\n",
              "      <th>4</th>\n",
              "      <td>143</td>\n",
              "      <td>81</td>\n",
              "      <td>144</td>\n",
              "      <td>238</td>\n",
              "      <td>True</td>\n",
              "    </tr>\n",
              "  </tbody>\n",
              "</table>\n",
              "</div>"
            ],
            "text/plain": [
              "     R    G    B  values  is_testable\n",
              "0  240  220  241     255         True\n",
              "1  217  174  219     255         True\n",
              "2  178  122  189     255         True\n",
              "3  158   57  197     255         True\n",
              "4  143   81  144     238         True"
            ]
          },
          "metadata": {
            "tags": []
          },
          "execution_count": 160
        }
      ]
    },
    {
      "cell_type": "code",
      "metadata": {
        "colab": {
          "base_uri": "https://localhost:8080/"
        },
        "id": "sdp8oLkyNFef",
        "outputId": "d50233b6-78e5-4a2b-8b47-698ba9991877"
      },
      "source": [
        "test = ds[ds['is_testable']==True]\n",
        "print(\"Number of observations in the testing data\",len(test))"
      ],
      "execution_count": null,
      "outputs": [
        {
          "output_type": "stream",
          "text": [
            "Number of observations in the testing data 256768\n"
          ],
          "name": "stdout"
        }
      ]
    },
    {
      "cell_type": "code",
      "metadata": {
        "colab": {
          "base_uri": "https://localhost:8080/"
        },
        "id": "ptUqU3SNNcaa",
        "outputId": "305d8469-9d19-43d6-b6b0-d401bf945e55"
      },
      "source": [
        "features_test = ds.columns[:4]\n",
        "print(features_test)\n",
        "print(len(features_test))"
      ],
      "execution_count": null,
      "outputs": [
        {
          "output_type": "stream",
          "text": [
            "Index(['R', 'G', 'B', 'values'], dtype='object')\n",
            "4\n"
          ],
          "name": "stdout"
        }
      ]
    },
    {
      "cell_type": "code",
      "metadata": {
        "colab": {
          "base_uri": "https://localhost:8080/"
        },
        "id": "N1L_BxyaVJO0",
        "outputId": "390c9f5e-10ae-4614-c0dc-81a2bd653690"
      },
      "source": [
        "#APPLYING THE TRAINED CLASSIFIER TO THE TEST\n",
        "y_pred=clf.predict(test[features_test])\n",
        "#y_pred=clf.predict(date_test.reshape(-1,1))\n",
        "print(y_pred) #afisarea predictiilor pe setul de test"
      ],
      "execution_count": null,
      "outputs": [
        {
          "output_type": "stream",
          "text": [
            "[0 0 0 ... 0 0 0]\n"
          ],
          "name": "stdout"
        }
      ]
    },
    {
      "cell_type": "code",
      "metadata": {
        "colab": {
          "base_uri": "https://localhost:8080/"
        },
        "id": "pMo4OOpSVoiU",
        "outputId": "afbce51e-a05b-4916-d6fb-3a2f2c8e0bd0"
      },
      "source": [
        "print(test[features_test]) \n",
        "#asta este scris in output ul de mai sus"
      ],
      "execution_count": null,
      "outputs": [
        {
          "output_type": "stream",
          "text": [
            "          R    G    B  values\n",
            "0       240  220  241     255\n",
            "1       217  174  219     255\n",
            "2       178  122  189     255\n",
            "3       158   57  197     255\n",
            "4       143   81  144     238\n",
            "...     ...  ...  ...     ...\n",
            "256763  232  246  216     168\n",
            "256764  227  239  210     182\n",
            "256765  212  214  203     255\n",
            "256766  215  222  213     255\n",
            "256767  215  224  204     255\n",
            "\n",
            "[256768 rows x 4 columns]\n"
          ],
          "name": "stdout"
        }
      ]
    },
    {
      "cell_type": "code",
      "metadata": {
        "colab": {
          "base_uri": "https://localhost:8080/"
        },
        "id": "wI5-rYX-V9Gk",
        "outputId": "3d7a0eb4-b433-4b89-d9df-0c240a9c062b"
      },
      "source": [
        "output1=clf.predict_proba(test[features_test])[0:10]\n",
        "print(output1)"
      ],
      "execution_count": null,
      "outputs": [
        {
          "output_type": "stream",
          "text": [
            "[[1. 0.]\n",
            " [1. 0.]\n",
            " [1. 0.]\n",
            " [1. 0.]\n",
            " [1. 0.]\n",
            " [1. 0.]\n",
            " [1. 0.]\n",
            " [1. 0.]\n",
            " [1. 0.]\n",
            " [1. 0.]]\n"
          ],
          "name": "stdout"
        }
      ]
    },
    {
      "cell_type": "code",
      "metadata": {
        "colab": {
          "base_uri": "https://localhost:8080/"
        },
        "id": "mb47xNW6W678",
        "outputId": "4ba7350d-c401-4562-908b-5b368bd5d6f9"
      },
      "source": [
        "output2=clf.predict_proba(test[features_test])[10:25]\n",
        "#daca pe vreun rand dau 2 probabilitati identice atunci \n",
        "#va lua automat prima optiune\n",
        "#ex : [0. , 0.5 , 0.5 ] aici desi amandoua sunt egale v-a lua\n",
        "#optiunea 2 deci verginica\n",
        "\n",
        "print(output2)"
      ],
      "execution_count": null,
      "outputs": [
        {
          "output_type": "stream",
          "text": [
            "[[0. 1.]\n",
            " [0. 1.]\n",
            " [0. 1.]\n",
            " [0. 1.]\n",
            " [0. 1.]\n",
            " [0. 1.]\n",
            " [0. 1.]\n",
            " [0. 1.]\n",
            " [0. 1.]\n",
            " [0. 1.]\n",
            " [0. 1.]\n",
            " [0. 1.]\n",
            " [0. 1.]\n",
            " [0. 1.]\n",
            " [0. 1.]]\n"
          ],
          "name": "stdout"
        }
      ]
    },
    {
      "cell_type": "markdown",
      "metadata": {
        "id": "wxNNi8Q5OaMj"
      },
      "source": [
        "DE AICI NU STIU EXACT !!"
      ]
    },
    {
      "cell_type": "code",
      "metadata": {
        "id": "7czFvpDwaDWs",
        "colab": {
          "base_uri": "https://localhost:8080/"
        },
        "outputId": "f34e1bec-2446-4a55-bd88-28aeeb4c6c2f"
      },
      "source": [
        "#cls2 = RF(n_estimators = 3)\n",
        "#cls2.fit(feat, label)\n",
        "import sklearn.metrics as skm\n",
        "\n",
        "y_pred = clf.predict(test[features_test])\n",
        "#y_pred = clf.predict(date_test.reshape(-1,1))\n",
        "print(len(y_pred))\n",
        "#y pred pentru antrenare\n",
        "acc_test = skm.accuracy_score(masca_test, y_pred)\n",
        "\n",
        "#%%\n",
        "#acc_test = skm.accuracy_score(y_test, clf.predict(x_test))\n",
        "\n",
        "#mconf_train = skm.confusion_matrix(y_train, y_pred)\n",
        "#mconf_test = skm.confusion_matrix(y_test, cls1.predict(x_test))"
      ],
      "execution_count": null,
      "outputs": [
        {
          "output_type": "stream",
          "text": [
            "256768\n"
          ],
          "name": "stdout"
        }
      ]
    },
    {
      "cell_type": "code",
      "metadata": {
        "id": "I4WKigsQ0j15"
      },
      "source": [
        "y_pred1 = clf.predict(train[features])\n",
        "#y pred pentru antrenare\n",
        "acc_train = skm.accuracy_score(masca, y_pred1)"
      ],
      "execution_count": null,
      "outputs": []
    },
    {
      "cell_type": "code",
      "metadata": {
        "colab": {
          "base_uri": "https://localhost:8080/"
        },
        "id": "fks1VUpy0pC1",
        "outputId": "95b93607-557e-48de-ea01-be4a98195b5a"
      },
      "source": [
        "#acuratete antrenare\n",
        "print(acc_train)"
      ],
      "execution_count": null,
      "outputs": [
        {
          "output_type": "stream",
          "text": [
            "1.0\n"
          ],
          "name": "stdout"
        }
      ]
    },
    {
      "cell_type": "code",
      "metadata": {
        "colab": {
          "base_uri": "https://localhost:8080/"
        },
        "id": "hmzyeIawbNIF",
        "outputId": "0fd5abd5-a2c3-4b59-a025-030c18ef2215"
      },
      "source": [
        "print(acc_test)"
      ],
      "execution_count": null,
      "outputs": [
        {
          "output_type": "stream",
          "text": [
            "1.0\n"
          ],
          "name": "stdout"
        }
      ]
    },
    {
      "cell_type": "code",
      "metadata": {
        "colab": {
          "base_uri": "https://localhost:8080/"
        },
        "id": "NjjT-GO_dKgB",
        "outputId": "ebc7da8e-cef3-4c7d-88ca-e0edc105d422"
      },
      "source": [
        "import numpy as np\n",
        "matrice=np.arange(12)\n",
        "matrice1=matrice.reshape([3,4])\n",
        "print(matrice)\n",
        "print(matrice1)\n",
        "\n",
        "print(matrice1.flatten())"
      ],
      "execution_count": null,
      "outputs": [
        {
          "output_type": "stream",
          "text": [
            "[ 0  1  2  3  4  5  6  7  8  9 10 11]\n",
            "[[ 0  1  2  3]\n",
            " [ 4  5  6  7]\n",
            " [ 8  9 10 11]]\n",
            "[ 0  1  2  3  4  5  6  7  8  9 10 11]\n"
          ],
          "name": "stdout"
        }
      ]
    },
    {
      "cell_type": "code",
      "metadata": {
        "colab": {
          "base_uri": "https://localhost:8080/"
        },
        "id": "uMpZSj6YbUa4",
        "outputId": "bd9cffe6-83bf-4686-ec35-05d039a4d42a"
      },
      "source": [
        "#y_pred.reshape([886,473]) #dimensiune constanta\n",
        "y_pred.reshape([472,544]) #dimensiune cluj [472,544]\n",
        "#y_pred.reshape([5000,2000]) #dimensiune constanta mare\n",
        "#y_pred.reshape([5490,5490]) #dimensiune cluj mare"
      ],
      "execution_count": null,
      "outputs": [
        {
          "output_type": "execute_result",
          "data": {
            "text/plain": [
              "array([[  0,   0,   0, ...,   0,   0,   0],\n",
              "       [  0,   0,   0, ...,   0,   0,   0],\n",
              "       [  0,   0,   0, ...,   0,   0,   0],\n",
              "       ...,\n",
              "       [  0,   0,   0, ..., 255, 255, 255],\n",
              "       [  0,   0,   0, ..., 255, 255, 255],\n",
              "       [  0,   0,   0, ...,   0,   0,   0]])"
            ]
          },
          "metadata": {
            "tags": []
          },
          "execution_count": 169
        }
      ]
    },
    {
      "cell_type": "code",
      "metadata": {
        "colab": {
          "base_uri": "https://localhost:8080/",
          "height": 367
        },
        "id": "wtsoNBChcn_d",
        "outputId": "8d652095-ff2e-4338-d76d-1d68ec5e65ad"
      },
      "source": [
        "import matplotlib.pyplot as plt\n",
        "from matplotlib.pyplot import figure\n",
        "figure(figsize=(13,13))\n",
        "plt.subplot(1,2,1)\n",
        "#plt.imshow(y_pred.reshape([5490,5490]),cmap=\"gray\") #cluj mare\n",
        "#plt.imshow(y_pred.reshape([5000,2000]),cmap=\"gray\") #constanta mare\n",
        "plt.imshow(y_pred.reshape([472,544]),cmap=\"gray\") #cluj mic\n",
        "#plt.imshow(y_pred.reshape([886,473]),cmap=\"gray\") #constanta mica\n",
        "plt.title(\"prezis\")\n",
        "plt.subplot(1,2,2)\n",
        "#plt.imshow(masca.reshape([5490,5490]),cmap=\"gray\") #cluj mare\n",
        "#plt.imshow(masca.reshape([5000,2000]),cmap=\"gray\") #constanta mare\n",
        "plt.imshow(masca.reshape([472,544]),cmap=\"gray\") #cluj mic\n",
        "#plt.imshow(masca.reshape([886,473]),cmap=\"gray\")  #constanta mica\n",
        "plt.title(\"corect\")"
      ],
      "execution_count": null,
      "outputs": [
        {
          "output_type": "execute_result",
          "data": {
            "text/plain": [
              "Text(0.5, 1.0, 'corect')"
            ]
          },
          "metadata": {
            "tags": []
          },
          "execution_count": 170
        },
        {
          "output_type": "display_data",
          "data": {
            "image/png": "[encoded data removed]",
            "text/plain": [
              "<Figure size 936x936 with 2 Axes>"
            ]
          },
          "metadata": {
            "tags": [],
            "needs_background": "light"
          }
        }
      ]
    }
  ]
}